{
    "cells": [
        {
            "cell_type": "code",
            "execution_count": 1,
            "metadata": {"collapsed": true, "pycharm": {"is_executing": false}},
            "outputs": [],
            "source": ["import pandas as pd\n", 'path = "count_rectangles"'],
        },
        {
            "cell_type": "code",
            "execution_count": 2,
            "outputs": [
                {
                    "name": "stderr",
                    "text": [
                        "<ipython-input-2-d7f51a00e255>:1: ParserWarning: Falling back to the 'python' engine because the 'c' engine does not support regex separators (separators > 1 char and different from '\\s+' are interpreted as regex); you can avoid this warning by specifying engine='python'.\n",
                        '  df = pd.read_csv(path, header=None, sep="\\]\\,\\[")\n',
                    ],
                    "output_type": "stream",
                }
            ],
            "source": [
                'df = pd.read_csv(path, header=None, sep="\\]\\,\\[")\n',
                "df = df.transpose()\n",
                "\n",
                "df.iloc[0] = df.iloc[0].str[1:]\n",
                "df.iloc[-1] = df.iloc[-1].str[:-1]\n",
                "\n",
                'df = df.iloc[:,0].str.split(",", expand=True)\n',
                "\n",
                "df = df.astype(int)",
            ],
            "metadata": {
                "collapsed": false,
                "pycharm": {"name": "#%%\n", "is_executing": false},
            },
        },
        {
            "cell_type": "code",
            "execution_count": null,
            "outputs": [],
            "source": [
                "rows, cols = df.shape\n",
                "\n",
                "for current_row in range(0, rows):\n",
                "    for current_col in range(0, cols):\n",
                "\n",
                "        if df.iloc[current_row][current_row] == 0: # found a potential  \n",
                "            relative_row = current_row\n",
                "            relative_col = current_col\n",
                "\n",
                "            below = 0\n",
                "            right = 0\n",
                "            while (relative_row < rows):\n",
                "                relative_row += 1\n",
                "                below = df.iloc[relative_row][current_col]\n",
                "                if below == 1: # found potential lower boundary of rectangle\n",
                '                    print("asdf")\n',
            ],
            "metadata": {"collapsed": false, "pycharm": {"name": "#%%\n"}},
        },
    ],
    "metadata": {
        "kernelspec": {
            "display_name": "Python 3",
            "language": "python",
            "name": "python3",
        },
        "language_info": {
            "codemirror_mode": {"name": "ipython", "version": 2},
            "file_extension": ".py",
            "mimetype": "text/x-python",
            "name": "python",
            "nbconvert_exporter": "python",
            "pygments_lexer": "ipython2",
            "version": "2.7.6",
        },
        "pycharm": {
            "stem_cell": {
                "cell_type": "raw",
                "source": [],
                "metadata": {"collapsed": false},
            }
        },
    },
    "nbformat": 4,
    "nbformat_minor": 0,
}
